{
 "cells": [
  {
   "cell_type": "code",
   "execution_count": 1,
   "metadata": {},
   "outputs": [],
   "source": [
    "# | hide\n",
    "%load_ext autoreload\n",
    "%autoreload 2"
   ]
  },
  {
   "cell_type": "code",
   "execution_count": 4,
   "metadata": {},
   "outputs": [],
   "source": [
    "import numpy as np\n",
    "import matplotlib.pyplot as plt\n",
    "import glob\n",
    "from pylaps.read import read_uu, read_grid, read_EBM, read_parallel_info\n",
    "from pylaps.plot import plot_2d_map\n",
    "from pylaps.functions import current_density, calc_deriv, VpVg_fs\n",
    "from tqdm.auto import tqdm\n",
    "import os\n",
    "from pathlib import Path"
   ]
  },
  {
   "cell_type": "code",
   "execution_count": 5,
   "metadata": {},
   "outputs": [],
   "source": [
    "# dir = \"p_th_bomb\"\n",
    "# dir = \"bipolar_pulse\"\n",
    "dir = \"moving_source\"\n",
    "gamma = 5./3.\n",
    "p0 = 0.2\n",
    "rho0 = 1.0\n",
    "\n",
    "ca = 1\n",
    "cs = np.sqrt(gamma * p0 / rho0)"
   ]
  },
  {
   "cell_type": "code",
   "execution_count": 6,
   "metadata": {},
   "outputs": [],
   "source": [
    "file = Path(__vsc_ipynb_file__)  # type: ignore # noqa: F821\n",
    "os.chdir(file.parent / dir)\n",
    "os.makedirs(\"figures\", exist_ok=True)"
   ]
  },
  {
   "cell_type": "code",
   "execution_count": 7,
   "metadata": {},
   "outputs": [
    {
     "name": "stdout",
     "output_type": "stream",
     "text": [
      "nx, ny = 1024 256\n",
      "npe, nvar =  4 8\n"
     ]
    }
   ],
   "source": [
    "xgrid, ygrid = read_grid()\n",
    "nx, ny = len(xgrid), len(ygrid)\n",
    "print(\"nx, ny =\", nx, ny)\n",
    "\n",
    "XX, YY = np.meshgrid(xgrid, ygrid, indexing='ij')\n",
    "\n",
    "kx = np.fft.rfftfreq(nx, xgrid[1] - xgrid[0])\n",
    "ky = np.fft.rfftfreq(ny, ygrid[1] - ygrid[0])\n",
    "\n",
    "npe, nvar = read_parallel_info()\n",
    "print(\"npe, nvar = \", npe, nvar)\n",
    "\n",
    "t_EBM, radius, Ur = read_EBM()"
   ]
  },
  {
   "cell_type": "code",
   "execution_count": 8,
   "metadata": {},
   "outputs": [],
   "source": [
    "def over_plot(ax, t, x0, y0, cs=1, ca=1):\n",
    "    result = VpVg_fs(cs, ca)\n",
    "    Cg_slow_perp = result[\"Vgs_perp\"]\n",
    "    Cg_slow_para = result[\"Vgs_para\"]\n",
    "    Cg_fast_perp = result[\"Vgf_perp\"]\n",
    "    Cg_fast_para = result[\"Vgf_para\"]\n",
    "\n",
    "    # plot group velocity of fast/slow wind\n",
    "    ax.scatter(\n",
    "        Cg_slow_para * t + x0,\n",
    "        Cg_slow_perp * t + y0,\n",
    "        s=0.5,\n",
    "        color=\"orange\",\n",
    "        label=r\"$V_{g,s}$\",\n",
    "    )\n",
    "    ax.scatter(\n",
    "        Cg_fast_para * t + x0,\n",
    "        Cg_fast_perp * t + y0,\n",
    "        s=0.5,\n",
    "        label=r\"$V_{g,f}$\",\n",
    "    )"
   ]
  },
  {
   "cell_type": "code",
   "execution_count": 9,
   "metadata": {},
   "outputs": [],
   "source": [
    "def save(name):\n",
    "    fname = Path(f\"./figures/{name}.png\")\n",
    "    fname.parent.mkdir(parents=True, exist_ok=True)\n",
    "    plt.savefig(fname, dpi=300)\n",
    "    plt.close()\n",
    "\n",
    "\n",
    "def plot_2d_maps(\n",
    "    file,\n",
    "    plot_rho=True,\n",
    "    plot_p=True,\n",
    "    plot_Babs=True,\n",
    "    plot_Bz=True,\n",
    "    plot_Jx=True,\n",
    "    plot_Jx_Alfven=True,\n",
    "):\n",
    "    t, uu = read_uu(file, nx, ny, nvar)\n",
    "    rho, ux, uy, uz, Bx, By, Bz, p = [uu[:, :, i] for i in range(8)]\n",
    "\n",
    "    Babs = np.sqrt(Bx**2 + By**2 + Bz**2)\n",
    "    rho1, p1, Babs1 = [arr - np.mean(arr) for arr in (rho, p, Babs)]\n",
    "\n",
    "    x0 = np.mean(XX)\n",
    "    y0 = np.mean(YY)\n",
    "\n",
    "    round_t = round(t, 2)\n",
    "\n",
    "    # Plot 2D color-coded maps\n",
    "    if plot_rho:\n",
    "        fig, ax = plot_2d_map(XX, YY, rho1, r\"$\\delta \\rho$\" + f\" $t={t:.2f}$\")\n",
    "        over_plot(ax, t, x0, y0, cs=cs)\n",
    "        save(f\"rho1_t_{t:.2f}\")\n",
    "\n",
    "    if plot_p:\n",
    "        fig, ax = plot_2d_map(XX, YY, p1, r\"$\\delta P$\" + f\" $t={t:.2f}$\")\n",
    "        over_plot(ax, t, x0, y0, cs=cs)\n",
    "        save(f\"p1_t_{t:.2f}\")\n",
    "\n",
    "    if plot_Babs:\n",
    "        fig, ax = plot_2d_map(XX, YY, Babs1, r\"$\\delta |B|$\" + f\" $t={t:.2f}$\")\n",
    "        over_plot(ax, t, x0, y0, cs=cs)\n",
    "        save(f\"Babs1_t_{t:.2f}\")\n",
    "\n",
    "    if plot_Bz:\n",
    "        fig, ax = plot_2d_map(XX, YY, Bz, r\"$B_z$\" + f\" $t={t:.2f}$\")\n",
    "        over_plot(ax, t, x0, y0, cs=cs)\n",
    "        save(f\"Bz_t_{t:.2f}\")\n",
    "\n",
    "    if plot_Jx:\n",
    "        Jx, Jy, Jz = current_density(Bx, By, Bz, xgrid, ygrid)\n",
    "        fig, ax = plot_2d_map(XX, YY, Jx, r\"$J_x$\" + f\" $t={t:.2f}$\")\n",
    "        save(f\"Jx/t_{round_t}\")\n",
    "\n",
    "    if plot_Jx_Alfven:\n",
    "        Ey = -(uz * Bx - ux * Bz)\n",
    "        dEy_dy = calc_deriv(Ey, ygrid, dim=1)\n",
    "        Jx_Alfven = dEy_dy / ca\n",
    "        fig, ax = plot_2d_map(XX, YY, Jx_Alfven, r\"$J_{x,Alfven}$\" + f\" $t={t:.2f}$\")\n",
    "        save(f\"Jx_Alfven/t_{round_t}\")"
   ]
  },
  {
   "cell_type": "code",
   "execution_count": 9,
   "metadata": {},
   "outputs": [
    {
     "name": "stderr",
     "output_type": "stream",
     "text": [
      "100%|██████████| 31/31 [00:29<00:00,  1.03it/s]\n"
     ]
    }
   ],
   "source": [
    "files = sorted(glob.glob(\"./diags/out*dat\"))\n",
    "nout = len(files)\n",
    "\n",
    "# Loop through files and process data\n",
    "for file in tqdm(files):\n",
    "    # plot_2d_maps(file)\n",
    "    plot_2d_maps(file, plot_rho=False, plot_p=False, plot_Babs=False, plot_Bz=False, plot_Jx=True)"
   ]
  }
 ],
 "metadata": {
  "kernelspec": {
   "display_name": "Python 3",
   "language": "python",
   "name": "python3"
  },
  "language_info": {
   "codemirror_mode": {
    "name": "ipython",
    "version": 3
   },
   "file_extension": ".py",
   "mimetype": "text/x-python",
   "name": "python",
   "nbconvert_exporter": "python",
   "pygments_lexer": "ipython3",
   "version": "3.12.3"
  }
 },
 "nbformat": 4,
 "nbformat_minor": 2
}
